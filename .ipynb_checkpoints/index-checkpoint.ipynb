{
 "cells": [
  {
   "cell_type": "code",
   "execution_count": 11,
   "metadata": {},
   "outputs": [],
   "source": [
    "import pandas as pd\n",
    "import matplotlib as plt\n",
    "import numpy as np\n",
    "import cartopy.crs as ccrs"
   ]
  },
  {
   "cell_type": "code",
   "execution_count": 12,
   "metadata": {},
   "outputs": [],
   "source": [
    "from argopy import DataFetcher as ArgoDataFetcher\n",
    "argo_loader = ArgoDataFetcher()\n"
   ]
  },
  {
   "cell_type": "code",
   "execution_count": 13,
   "metadata": {},
   "outputs": [],
   "source": [
    "#ds = argo_loader.region([-85,-45,10.,20.,0,10.]).to_xarray()\n",
    "#ds = argo_loader.region([-85,-45,10.,20.,0,1000.,'2018','2019']).to_xarray()\n"
   ]
  },
  {
   "cell_type": "code",
   "execution_count": 14,
   "metadata": {},
   "outputs": [
    {
     "name": "stdout",
     "output_type": "stream",
     "text": [
      "          CONFIG_MISSION_NUMBER  CYCLE_NUMBER DATA_MODE DIRECTION  \\\n",
      "N_POINTS                                                            \n",
      "0                             2            30         D         A   \n",
      "1                             2            30         D         A   \n",
      "2                             2            30         D         A   \n",
      "3                             2            30         D         A   \n",
      "4                             2            30         D         A   \n",
      "\n",
      "          PLATFORM_NUMBER  POSITION_QC  PRES  PRES_QC       PSAL  PSAL_QC  \\\n",
      "N_POINTS                                                                    \n",
      "0                 6902746            1   3.0        1  35.773998        1   \n",
      "1                 6902746            1   4.0        1  35.770000        1   \n",
      "2                 6902746            1   5.0        1  35.766998        1   \n",
      "3                 6902746            1   6.0        1  35.768002        1   \n",
      "4                 6902746            1   7.0        1  35.765999        1   \n",
      "\n",
      "               TEMP  TEMP_QC  TIME_QC  LATITUDE  LONGITUDE                TIME  \n",
      "N_POINTS                                                                        \n",
      "0         27.896000        1        1    19.438     -59.16 2017-11-30 06:48:00  \n",
      "1         27.900000        1        1    19.438     -59.16 2017-11-30 06:48:00  \n",
      "2         27.900999        1        1    19.438     -59.16 2017-11-30 06:48:00  \n",
      "3         27.896000        1        1    19.438     -59.16 2017-11-30 06:48:00  \n",
      "4         27.903999        1        1    19.438     -59.16 2017-11-30 06:48:00  \n"
     ]
    },
    {
     "data": {
      "text/html": [
       "<div>\n",
       "<style scoped>\n",
       "    .dataframe tbody tr th:only-of-type {\n",
       "        vertical-align: middle;\n",
       "    }\n",
       "\n",
       "    .dataframe tbody tr th {\n",
       "        vertical-align: top;\n",
       "    }\n",
       "\n",
       "    .dataframe thead th {\n",
       "        text-align: right;\n",
       "    }\n",
       "</style>\n",
       "<table border=\"1\" class=\"dataframe\">\n",
       "  <thead>\n",
       "    <tr style=\"text-align: right;\">\n",
       "      <th></th>\n",
       "      <th>CONFIG_MISSION_NUMBER</th>\n",
       "      <th>CYCLE_NUMBER</th>\n",
       "      <th>PLATFORM_NUMBER</th>\n",
       "      <th>POSITION_QC</th>\n",
       "      <th>PRES</th>\n",
       "      <th>PRES_QC</th>\n",
       "      <th>PSAL</th>\n",
       "      <th>PSAL_QC</th>\n",
       "      <th>TEMP</th>\n",
       "      <th>TEMP_QC</th>\n",
       "      <th>TIME_QC</th>\n",
       "      <th>LATITUDE</th>\n",
       "      <th>LONGITUDE</th>\n",
       "    </tr>\n",
       "  </thead>\n",
       "  <tbody>\n",
       "    <tr>\n",
       "      <th>count</th>\n",
       "      <td>108.0</td>\n",
       "      <td>108.0</td>\n",
       "      <td>108.0</td>\n",
       "      <td>108.0</td>\n",
       "      <td>108.000000</td>\n",
       "      <td>108.0</td>\n",
       "      <td>108.000000</td>\n",
       "      <td>108.0</td>\n",
       "      <td>108.000000</td>\n",
       "      <td>108.0</td>\n",
       "      <td>108.0</td>\n",
       "      <td>1.080000e+02</td>\n",
       "      <td>1.080000e+02</td>\n",
       "    </tr>\n",
       "    <tr>\n",
       "      <th>mean</th>\n",
       "      <td>2.0</td>\n",
       "      <td>30.0</td>\n",
       "      <td>6902746.0</td>\n",
       "      <td>1.0</td>\n",
       "      <td>775.722222</td>\n",
       "      <td>1.0</td>\n",
       "      <td>35.680861</td>\n",
       "      <td>1.0</td>\n",
       "      <td>13.243130</td>\n",
       "      <td>1.0</td>\n",
       "      <td>1.0</td>\n",
       "      <td>1.943800e+01</td>\n",
       "      <td>-5.916000e+01</td>\n",
       "    </tr>\n",
       "    <tr>\n",
       "      <th>std</th>\n",
       "      <td>0.0</td>\n",
       "      <td>0.0</td>\n",
       "      <td>0.0</td>\n",
       "      <td>0.0</td>\n",
       "      <td>631.145670</td>\n",
       "      <td>0.0</td>\n",
       "      <td>0.825036</td>\n",
       "      <td>0.0</td>\n",
       "      <td>8.839245</td>\n",
       "      <td>0.0</td>\n",
       "      <td>0.0</td>\n",
       "      <td>4.996987e-14</td>\n",
       "      <td>1.070783e-13</td>\n",
       "    </tr>\n",
       "    <tr>\n",
       "      <th>min</th>\n",
       "      <td>2.0</td>\n",
       "      <td>30.0</td>\n",
       "      <td>6902746.0</td>\n",
       "      <td>1.0</td>\n",
       "      <td>3.000000</td>\n",
       "      <td>1.0</td>\n",
       "      <td>34.876999</td>\n",
       "      <td>1.0</td>\n",
       "      <td>3.721000</td>\n",
       "      <td>1.0</td>\n",
       "      <td>1.0</td>\n",
       "      <td>1.943800e+01</td>\n",
       "      <td>-5.916000e+01</td>\n",
       "    </tr>\n",
       "    <tr>\n",
       "      <th>25%</th>\n",
       "      <td>2.0</td>\n",
       "      <td>30.0</td>\n",
       "      <td>6902746.0</td>\n",
       "      <td>1.0</td>\n",
       "      <td>203.500000</td>\n",
       "      <td>1.0</td>\n",
       "      <td>34.998751</td>\n",
       "      <td>1.0</td>\n",
       "      <td>5.109000</td>\n",
       "      <td>1.0</td>\n",
       "      <td>1.0</td>\n",
       "      <td>1.943800e+01</td>\n",
       "      <td>-5.916000e+01</td>\n",
       "    </tr>\n",
       "    <tr>\n",
       "      <th>50%</th>\n",
       "      <td>2.0</td>\n",
       "      <td>30.0</td>\n",
       "      <td>6902746.0</td>\n",
       "      <td>1.0</td>\n",
       "      <td>650.500000</td>\n",
       "      <td>1.0</td>\n",
       "      <td>35.190500</td>\n",
       "      <td>1.0</td>\n",
       "      <td>9.769500</td>\n",
       "      <td>1.0</td>\n",
       "      <td>1.0</td>\n",
       "      <td>1.943800e+01</td>\n",
       "      <td>-5.916000e+01</td>\n",
       "    </tr>\n",
       "    <tr>\n",
       "      <th>75%</th>\n",
       "      <td>2.0</td>\n",
       "      <td>30.0</td>\n",
       "      <td>6902746.0</td>\n",
       "      <td>1.0</td>\n",
       "      <td>1319.250000</td>\n",
       "      <td>1.0</td>\n",
       "      <td>36.383501</td>\n",
       "      <td>1.0</td>\n",
       "      <td>20.606501</td>\n",
       "      <td>1.0</td>\n",
       "      <td>1.0</td>\n",
       "      <td>1.943800e+01</td>\n",
       "      <td>-5.916000e+01</td>\n",
       "    </tr>\n",
       "    <tr>\n",
       "      <th>max</th>\n",
       "      <td>2.0</td>\n",
       "      <td>30.0</td>\n",
       "      <td>6902746.0</td>\n",
       "      <td>1.0</td>\n",
       "      <td>1988.000000</td>\n",
       "      <td>1.0</td>\n",
       "      <td>37.376999</td>\n",
       "      <td>1.0</td>\n",
       "      <td>28.240000</td>\n",
       "      <td>1.0</td>\n",
       "      <td>1.0</td>\n",
       "      <td>1.943800e+01</td>\n",
       "      <td>-5.916000e+01</td>\n",
       "    </tr>\n",
       "  </tbody>\n",
       "</table>\n",
       "</div>"
      ],
      "text/plain": [
       "       CONFIG_MISSION_NUMBER  CYCLE_NUMBER  PLATFORM_NUMBER  POSITION_QC  \\\n",
       "count                  108.0         108.0            108.0        108.0   \n",
       "mean                     2.0          30.0        6902746.0          1.0   \n",
       "std                      0.0           0.0              0.0          0.0   \n",
       "min                      2.0          30.0        6902746.0          1.0   \n",
       "25%                      2.0          30.0        6902746.0          1.0   \n",
       "50%                      2.0          30.0        6902746.0          1.0   \n",
       "75%                      2.0          30.0        6902746.0          1.0   \n",
       "max                      2.0          30.0        6902746.0          1.0   \n",
       "\n",
       "              PRES  PRES_QC        PSAL  PSAL_QC        TEMP  TEMP_QC  \\\n",
       "count   108.000000    108.0  108.000000    108.0  108.000000    108.0   \n",
       "mean    775.722222      1.0   35.680861      1.0   13.243130      1.0   \n",
       "std     631.145670      0.0    0.825036      0.0    8.839245      0.0   \n",
       "min       3.000000      1.0   34.876999      1.0    3.721000      1.0   \n",
       "25%     203.500000      1.0   34.998751      1.0    5.109000      1.0   \n",
       "50%     650.500000      1.0   35.190500      1.0    9.769500      1.0   \n",
       "75%    1319.250000      1.0   36.383501      1.0   20.606501      1.0   \n",
       "max    1988.000000      1.0   37.376999      1.0   28.240000      1.0   \n",
       "\n",
       "       TIME_QC      LATITUDE     LONGITUDE  \n",
       "count    108.0  1.080000e+02  1.080000e+02  \n",
       "mean       1.0  1.943800e+01 -5.916000e+01  \n",
       "std        0.0  4.996987e-14  1.070783e-13  \n",
       "min        1.0  1.943800e+01 -5.916000e+01  \n",
       "25%        1.0  1.943800e+01 -5.916000e+01  \n",
       "50%        1.0  1.943800e+01 -5.916000e+01  \n",
       "75%        1.0  1.943800e+01 -5.916000e+01  \n",
       "max        1.0  1.943800e+01 -5.916000e+01  "
      ]
     },
     "execution_count": 14,
     "metadata": {},
     "output_type": "execute_result"
    }
   ],
   "source": [
    "ds = ArgoDataFetcher().profile(6902746, 30).to_xarray()\n",
    "df = ds.to_dataframe()\n",
    "print(df.head())\n",
    "df.describe()"
   ]
  },
  {
   "cell_type": "code",
   "execution_count": 5,
   "metadata": {},
   "outputs": [
    {
     "data": {
      "text/plain": [
       "['CONFIG_MISSION_NUMBER',\n",
       " 'CYCLE_NUMBER',\n",
       " 'DATA_MODE',\n",
       " 'DIRECTION',\n",
       " 'PLATFORM_NUMBER',\n",
       " 'POSITION_QC',\n",
       " 'PRES',\n",
       " 'PRES_QC',\n",
       " 'PSAL',\n",
       " 'PSAL_QC',\n",
       " 'TEMP',\n",
       " 'TEMP_QC',\n",
       " 'TIME_QC',\n",
       " 'LATITUDE',\n",
       " 'LONGITUDE',\n",
       " 'TIME']"
      ]
     },
     "execution_count": 5,
     "metadata": {},
     "output_type": "execute_result"
    }
   ],
   "source": [
    "df.keys()\n",
    "list(df.keys())\n",
    "\n"
   ]
  },
  {
   "cell_type": "code",
   "execution_count": 24,
   "metadata": {},
   "outputs": [
    {
     "name": "stdout",
     "output_type": "stream",
     "text": [
      "<class 'pandas.core.frame.DataFrame'>\n",
      "Int64Index: 109 entries, 0 to 108\n",
      "Data columns (total 16 columns):\n",
      " #   Column                 Non-Null Count  Dtype         \n",
      "---  ------                 --------------  -----         \n",
      " 0   CONFIG_MISSION_NUMBER  109 non-null    int32         \n",
      " 1   CYCLE_NUMBER           109 non-null    int32         \n",
      " 2   DATA_MODE              109 non-null    object        \n",
      " 3   DIRECTION              109 non-null    object        \n",
      " 4   PLATFORM_NUMBER        109 non-null    int32         \n",
      " 5   POSITION_QC            109 non-null    int32         \n",
      " 6   PRES                   109 non-null    float64       \n",
      " 7   PRES_QC                109 non-null    int32         \n",
      " 8   PSAL                   109 non-null    float64       \n",
      " 9   PSAL_QC                109 non-null    int32         \n",
      " 10  TEMP                   109 non-null    float64       \n",
      " 11  TEMP_QC                109 non-null    int32         \n",
      " 12  TIME_QC                109 non-null    int32         \n",
      " 13  LATITUDE               109 non-null    float64       \n",
      " 14  LONGITUDE              109 non-null    float64       \n",
      " 15  TIME                   109 non-null    datetime64[ns]\n",
      "dtypes: datetime64[ns](1), float64(5), int32(8), object(2)\n",
      "memory usage: 11.1+ KB\n"
     ]
    }
   ],
   "source": [
    "df['TIME']= pd.to_datetime(df['TIME'])"
   ]
  },
  {
   "cell_type": "code",
   "execution_count": 26,
   "metadata": {},
   "outputs": [
    {
     "name": "stderr",
     "output_type": "stream",
     "text": [
      "<ipython-input-26-7bc0d487d307>:1: FutureWarning: Treating datetime data as categorical rather than numeric in `.describe` is deprecated and will be removed in a future version of pandas. Specify `datetime_is_numeric=True` to silence this warning and adopt the future behavior now.\n",
      "  df['TIME'].describe()\n"
     ]
    },
    {
     "data": {
      "text/plain": [
       "count                     109\n",
       "unique                      1\n",
       "top       2017-12-20 06:58:00\n",
       "freq                      109\n",
       "first     2017-12-20 06:58:00\n",
       "last      2017-12-20 06:58:00\n",
       "Name: TIME, dtype: object"
      ]
     },
     "execution_count": 26,
     "metadata": {},
     "output_type": "execute_result"
    }
   ],
   "source": [
    "df.info()"
   ]
  },
  {
   "cell_type": "code",
   "execution_count": 9,
   "metadata": {},
   "outputs": [],
   "source": [
    "    from argopy import IndexFetcher as ArgoIndexFetcher\n",
    "\n",
    "    index_loader = ArgoIndexFetcher()\n",
    "    index_loader = ArgoIndexFetcher(backend='erddap')    \n",
    "    #Local ftp backend \n",
    "    #index_loader = ArgoIndexFetcher(backend='localftp',path_ftp='/path/to/your/argo/ftp/',index_file='ar_index_global_prof.txt')\n"
   ]
  },
  {
   "cell_type": "code",
   "execution_count": null,
   "metadata": {},
   "outputs": [],
   "source": []
  }
 ],
 "metadata": {
  "kernelspec": {
   "display_name": "Python 3",
   "language": "python",
   "name": "python3"
  },
  "language_info": {
   "codemirror_mode": {
    "name": "ipython",
    "version": 3
   },
   "file_extension": ".py",
   "mimetype": "text/x-python",
   "name": "python",
   "nbconvert_exporter": "python",
   "pygments_lexer": "ipython3",
   "version": "3.8.5"
  }
 },
 "nbformat": 4,
 "nbformat_minor": 4
}
